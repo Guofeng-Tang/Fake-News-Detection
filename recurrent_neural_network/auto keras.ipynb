{
 "cells": [
  {
   "cell_type": "code",
   "execution_count": null,
   "metadata": {},
   "outputs": [],
   "source": [
    "import pandas as pd\n",
    "import autokeras as ak"
   ]
  },
  {
   "cell_type": "code",
   "execution_count": null,
   "metadata": {},
   "outputs": [],
   "source": [
    "BOW = 1\n",
    "MAX_TRIALS = 1\n",
    "EPOCHS=5\n",
    "\n",
    "print(\"BOW:\", BOW)\n",
    "print(\"MAX_TRIALS:\", MAX_TRIALS)\n",
    "print(\"EPOCHS:\", EPOCHS)"
   ]
  },
  {
   "cell_type": "code",
   "execution_count": null,
   "metadata": {},
   "outputs": [],
   "source": [
    "if BOW:\n",
    "    train_bow_df = pd.read_csv(\"../data/train_bow.csv\")\n",
    "    test_bow_df = pd.read_csv(\"../data/test_bow.csv\")\n",
    "\n",
    "    X_train = train_bow_df.drop(\"isFakeNews\", axis = 1)\n",
    "    y_train = train_bow_df[\"isFakeNews\"]\n",
    "    X_test = test_bow_df.drop(\"isFakeNews\", axis = 1)\n",
    "    y_test = test_bow_df[\"isFakeNews\"]\n",
    "else:\n",
    "    train_tfidf_df = pd.read_csv(\"../data/train_tfidf.csv\")\n",
    "    test_tfidf_df = pd.read_csv(\"../data/test_tfidf.csv\")\n",
    "\n",
    "    X_train = train_tfidf_df.drop(\"isFakeNews\", axis = 1)\n",
    "    y_train = train_tfidf_df[\"isFakeNews\"]\n",
    "    X_test = test_tfidf_df.drop(\"isFakeNews\", axis = 1)\n",
    "    y_test = test_tfidf_df[\"isFakeNews\"]\n",
    "\n",
    "X_train = X_train.to_numpy()\n",
    "y_train = y_train.to_numpy()"
   ]
  },
  {
   "cell_type": "code",
   "execution_count": null,
   "metadata": {
    "scrolled": true
   },
   "outputs": [],
   "source": [
    "clf = ak.StructuredDataClassifier(max_trials=MAX_TRIALS);"
   ]
  },
  {
   "cell_type": "code",
   "execution_count": null,
   "metadata": {
    "scrolled": true
   },
   "outputs": [],
   "source": [
    "clf.fit(X_train_bow, y_train_bow, epochs=EPOCHS)"
   ]
  },
  {
   "cell_type": "code",
   "execution_count": null,
   "metadata": {},
   "outputs": [],
   "source": [
    "# print(clf.evaluate(X_test_bow, y_test_bow))"
   ]
  },
  {
   "cell_type": "code",
   "execution_count": null,
   "metadata": {},
   "outputs": [],
   "source": [
    "model = clf.export_model()"
   ]
  },
  {
   "cell_type": "code",
   "execution_count": null,
   "metadata": {},
   "outputs": [],
   "source": [
    "model.summary()"
   ]
  },
  {
   "cell_type": "code",
   "execution_count": null,
   "metadata": {},
   "outputs": [],
   "source": [
    "# print(model.to_json())"
   ]
  },
  {
   "cell_type": "code",
   "execution_count": null,
   "metadata": {},
   "outputs": [],
   "source": [
    "# filepath = \"my_model.h5\"\n",
    "# model.save(filepath)"
   ]
  },
  {
   "cell_type": "code",
   "execution_count": null,
   "metadata": {},
   "outputs": [],
   "source": [
    "# predicted_y = clf.predict(X_test_bow)"
   ]
  },
  {
   "cell_type": "code",
   "execution_count": null,
   "metadata": {},
   "outputs": [],
   "source": []
  }
 ],
 "metadata": {
  "kernelspec": {
   "display_name": "cs3244",
   "language": "python",
   "name": "cs3244"
  },
  "language_info": {
   "codemirror_mode": {
    "name": "ipython",
    "version": 3
   },
   "file_extension": ".py",
   "mimetype": "text/x-python",
   "name": "python",
   "nbconvert_exporter": "python",
   "pygments_lexer": "ipython3",
   "version": "3.7.6"
  }
 },
 "nbformat": 4,
 "nbformat_minor": 4
}
